{
 "cells": [
  {
   "cell_type": "code",
   "execution_count": 1,
   "id": "85ed632b",
   "metadata": {},
   "outputs": [
    {
     "name": "stdout",
     "output_type": "stream",
     "text": [
      "C:\\Users\\hp\n"
     ]
    }
   ],
   "source": [
    "cd"
   ]
  },
  {
   "cell_type": "code",
   "execution_count": 3,
   "id": "cb9a5197",
   "metadata": {},
   "outputs": [],
   "source": [
    "import numpy as np\n",
    "import pandas as pd\n",
    "from tensorflow.keras.preprocessing.image import ImageDataGenerator, load_img\n",
    "from tensorflow.keras.utils import to_categorical\n",
    "from sklearn.model_selection import train_test_split\n",
    "import matplotlib.pyplot as plt\n",
    "import random\n",
    "import cv2\n",
    "import os\n",
    "from tensorflow.keras.models import Sequential\n",
    "from tensorflow.keras.layers import Conv2D, MaxPooling2D, Dropout, Flatten, Dense, Activation, BatchNormalization"
   ]
  },
  {
   "cell_type": "code",
   "execution_count": 55,
   "id": "eda4cffe",
   "metadata": {},
   "outputs": [],
   "source": [
    "from tensorflow import keras\n",
    "model = keras.models.load_model('Desktop/model2.h5')"
   ]
  },
  {
   "cell_type": "code",
   "execution_count": 12,
   "id": "5794298e",
   "metadata": {},
   "outputs": [],
   "source": [
    "from keras import models"
   ]
  },
  {
   "cell_type": "code",
   "execution_count": 15,
   "id": "b7c270c3",
   "metadata": {},
   "outputs": [
    {
     "name": "stdout",
     "output_type": "stream",
     "text": [
      "C:\\Users\\hp\n"
     ]
    }
   ],
   "source": [
    "cd .."
   ]
  },
  {
   "cell_type": "code",
   "execution_count": 56,
   "id": "3121845e",
   "metadata": {},
   "outputs": [],
   "source": [
    "test_filenames = os.listdir('C:\\\\Users\\\\hp\\\\Desktop\\\\fungiclef2022\\\\test')\n",
    "test_df=pd.DataFrame({\n",
    "    'filename':test_filenames\n",
    "})\n"
   ]
  },
  {
   "cell_type": "code",
   "execution_count": 57,
   "id": "a6ce39cd",
   "metadata": {},
   "outputs": [
    {
     "name": "stdout",
     "output_type": "stream",
     "text": [
      "118676\n"
     ]
    }
   ],
   "source": [
    "total_test=test_df.shape[0]\n",
    "print(total_test)"
   ]
  },
  {
   "cell_type": "code",
   "execution_count": 58,
   "id": "78b286f5",
   "metadata": {},
   "outputs": [
    {
     "name": "stdout",
     "output_type": "stream",
     "text": [
      "Found 118676 validated image filenames.\n"
     ]
    }
   ],
   "source": [
    "test_datagen=ImageDataGenerator(rescale=1./255)\n",
    "batch_size=100\n",
    "\n",
    "test_generator=test_datagen.flow_from_dataframe(\n",
    "    test_df,\n",
    "    'C:\\\\Users\\\\hp\\\\Desktop\\\\fungiclef2022\\\\test',\n",
    "    x_col='filename',\n",
    "    y_col=None,\n",
    "    class_mode=None,\n",
    "    target_size=(150,150),\n",
    "    batch_size=batch_size,\n",
    "    shuffle=False\n",
    ")"
   ]
  },
  {
   "cell_type": "code",
   "execution_count": 59,
   "id": "c3db083e",
   "metadata": {},
   "outputs": [
    {
     "name": "stdout",
     "output_type": "stream",
     "text": [
      "118676\n",
      "[[6.4987654e-04 9.3613303e-04 3.0619486e-08 ... 8.5804568e-05\n",
      "  4.3323776e-06 2.5874103e-04]\n",
      " [2.2646184e-03 5.5000850e-04 4.5130593e-05 ... 1.2496336e-04\n",
      "  7.0540358e-05 3.2567102e-04]\n",
      " [3.5109682e-05 1.5221229e-04 2.2551849e-07 ... 2.3148979e-04\n",
      "  3.7356813e-06 1.8691007e-04]\n",
      " ...\n",
      " [1.1986231e-03 3.3543768e-06 1.0472056e-04 ... 8.4953266e-05\n",
      "  1.3598597e-04 2.8639394e-04]\n",
      " [8.6868461e-04 1.1508448e-05 2.1141562e-04 ... 1.2588713e-06\n",
      "  3.2778764e-05 2.4827602e-06]\n",
      " [1.6137058e-03 1.7067462e-02 2.5226443e-06 ... 9.7849181e-05\n",
      "  1.2023265e-05 2.0596903e-04]]\n"
     ]
    }
   ],
   "source": [
    "predict=model.predict(test_generator,steps=np.ceil(total_test/batch_size))\n",
    "print(len(predict))\n",
    "print(predict)"
   ]
  },
  {
   "cell_type": "code",
   "execution_count": 60,
   "id": "8a83074b",
   "metadata": {},
   "outputs": [
    {
     "name": "stdout",
     "output_type": "stream",
     "text": [
      "0     528\n",
      "1     924\n",
      "2    1015\n",
      "Name: category, dtype: int64\n"
     ]
    }
   ],
   "source": [
    "test_df['category']=np.argmax(predict,axis=-1)\n",
    "print(test_df['category'][0:3])"
   ]
  },
  {
   "cell_type": "code",
   "execution_count": 61,
   "id": "cffb4aae",
   "metadata": {},
   "outputs": [
    {
     "data": {
      "text/html": [
       "<div>\n",
       "<style scoped>\n",
       "    .dataframe tbody tr th:only-of-type {\n",
       "        vertical-align: middle;\n",
       "    }\n",
       "\n",
       "    .dataframe tbody tr th {\n",
       "        vertical-align: top;\n",
       "    }\n",
       "\n",
       "    .dataframe thead th {\n",
       "        text-align: right;\n",
       "    }\n",
       "</style>\n",
       "<table border=\"1\" class=\"dataframe\">\n",
       "  <thead>\n",
       "    <tr style=\"text-align: right;\">\n",
       "      <th></th>\n",
       "      <th>filename</th>\n",
       "      <th>category</th>\n",
       "    </tr>\n",
       "  </thead>\n",
       "  <tbody>\n",
       "    <tr>\n",
       "      <th>0</th>\n",
       "      <td>0-3008822340.jpg</td>\n",
       "      <td>528</td>\n",
       "    </tr>\n",
       "    <tr>\n",
       "      <th>1</th>\n",
       "      <td>0-3008822343.jpg</td>\n",
       "      <td>924</td>\n",
       "    </tr>\n",
       "    <tr>\n",
       "      <th>2</th>\n",
       "      <td>0-3008822344.jpg</td>\n",
       "      <td>1015</td>\n",
       "    </tr>\n",
       "    <tr>\n",
       "      <th>3</th>\n",
       "      <td>0-3008822345.jpg</td>\n",
       "      <td>209</td>\n",
       "    </tr>\n",
       "    <tr>\n",
       "      <th>4</th>\n",
       "      <td>0-3008822346.jpg</td>\n",
       "      <td>1086</td>\n",
       "    </tr>\n",
       "    <tr>\n",
       "      <th>...</th>\n",
       "      <td>...</td>\n",
       "      <td>...</td>\n",
       "    </tr>\n",
       "    <tr>\n",
       "      <th>118671</th>\n",
       "      <td>9-3424490325.jpg</td>\n",
       "      <td>654</td>\n",
       "    </tr>\n",
       "    <tr>\n",
       "      <th>118672</th>\n",
       "      <td>9-3424493304.jpg</td>\n",
       "      <td>209</td>\n",
       "    </tr>\n",
       "    <tr>\n",
       "      <th>118673</th>\n",
       "      <td>9-3424494314.jpg</td>\n",
       "      <td>209</td>\n",
       "    </tr>\n",
       "    <tr>\n",
       "      <th>118674</th>\n",
       "      <td>9-3424495334.jpg</td>\n",
       "      <td>1045</td>\n",
       "    </tr>\n",
       "    <tr>\n",
       "      <th>118675</th>\n",
       "      <td>9-3429075304.jpg</td>\n",
       "      <td>1037</td>\n",
       "    </tr>\n",
       "  </tbody>\n",
       "</table>\n",
       "<p>118676 rows × 2 columns</p>\n",
       "</div>"
      ],
      "text/plain": [
       "                filename  category\n",
       "0       0-3008822340.jpg       528\n",
       "1       0-3008822343.jpg       924\n",
       "2       0-3008822344.jpg      1015\n",
       "3       0-3008822345.jpg       209\n",
       "4       0-3008822346.jpg      1086\n",
       "...                  ...       ...\n",
       "118671  9-3424490325.jpg       654\n",
       "118672  9-3424493304.jpg       209\n",
       "118673  9-3424494314.jpg       209\n",
       "118674  9-3424495334.jpg      1045\n",
       "118675  9-3429075304.jpg      1037\n",
       "\n",
       "[118676 rows x 2 columns]"
      ]
     },
     "execution_count": 61,
     "metadata": {},
     "output_type": "execute_result"
    }
   ],
   "source": [
    "test_df"
   ]
  },
  {
   "cell_type": "code",
   "execution_count": 62,
   "id": "ca55ac65",
   "metadata": {},
   "outputs": [],
   "source": [
    "ObservationId=[]\n",
    "for i in range(118676):\n",
    "    ObservationId.append(test_filenames[i][2:12])"
   ]
  },
  {
   "cell_type": "code",
   "execution_count": 63,
   "id": "efcc7d58",
   "metadata": {},
   "outputs": [],
   "source": [
    "sub=pd.DataFrame({\n",
    "    'ObservationId':ObservationId,\n",
    "    'ClassId':test_df['category'],\n",
    "})"
   ]
  },
  {
   "cell_type": "code",
   "execution_count": 64,
   "id": "1394c2d4",
   "metadata": {},
   "outputs": [
    {
     "data": {
      "text/html": [
       "<div>\n",
       "<style scoped>\n",
       "    .dataframe tbody tr th:only-of-type {\n",
       "        vertical-align: middle;\n",
       "    }\n",
       "\n",
       "    .dataframe tbody tr th {\n",
       "        vertical-align: top;\n",
       "    }\n",
       "\n",
       "    .dataframe thead th {\n",
       "        text-align: right;\n",
       "    }\n",
       "</style>\n",
       "<table border=\"1\" class=\"dataframe\">\n",
       "  <thead>\n",
       "    <tr style=\"text-align: right;\">\n",
       "      <th></th>\n",
       "      <th>ObservationId</th>\n",
       "      <th>ClassId</th>\n",
       "    </tr>\n",
       "  </thead>\n",
       "  <tbody>\n",
       "    <tr>\n",
       "      <th>0</th>\n",
       "      <td>3008822340</td>\n",
       "      <td>528</td>\n",
       "    </tr>\n",
       "    <tr>\n",
       "      <th>1</th>\n",
       "      <td>3008822343</td>\n",
       "      <td>924</td>\n",
       "    </tr>\n",
       "    <tr>\n",
       "      <th>2</th>\n",
       "      <td>3008822344</td>\n",
       "      <td>1015</td>\n",
       "    </tr>\n",
       "    <tr>\n",
       "      <th>3</th>\n",
       "      <td>3008822345</td>\n",
       "      <td>209</td>\n",
       "    </tr>\n",
       "    <tr>\n",
       "      <th>4</th>\n",
       "      <td>3008822346</td>\n",
       "      <td>1086</td>\n",
       "    </tr>\n",
       "    <tr>\n",
       "      <th>...</th>\n",
       "      <td>...</td>\n",
       "      <td>...</td>\n",
       "    </tr>\n",
       "    <tr>\n",
       "      <th>118671</th>\n",
       "      <td>3424490325</td>\n",
       "      <td>654</td>\n",
       "    </tr>\n",
       "    <tr>\n",
       "      <th>118672</th>\n",
       "      <td>3424493304</td>\n",
       "      <td>209</td>\n",
       "    </tr>\n",
       "    <tr>\n",
       "      <th>118673</th>\n",
       "      <td>3424494314</td>\n",
       "      <td>209</td>\n",
       "    </tr>\n",
       "    <tr>\n",
       "      <th>118674</th>\n",
       "      <td>3424495334</td>\n",
       "      <td>1045</td>\n",
       "    </tr>\n",
       "    <tr>\n",
       "      <th>118675</th>\n",
       "      <td>3429075304</td>\n",
       "      <td>1037</td>\n",
       "    </tr>\n",
       "  </tbody>\n",
       "</table>\n",
       "<p>118676 rows × 2 columns</p>\n",
       "</div>"
      ],
      "text/plain": [
       "       ObservationId  ClassId\n",
       "0         3008822340      528\n",
       "1         3008822343      924\n",
       "2         3008822344     1015\n",
       "3         3008822345      209\n",
       "4         3008822346     1086\n",
       "...              ...      ...\n",
       "118671    3424490325      654\n",
       "118672    3424493304      209\n",
       "118673    3424494314      209\n",
       "118674    3424495334     1045\n",
       "118675    3429075304     1037\n",
       "\n",
       "[118676 rows x 2 columns]"
      ]
     },
     "execution_count": 64,
     "metadata": {},
     "output_type": "execute_result"
    }
   ],
   "source": [
    "sub"
   ]
  },
  {
   "cell_type": "code",
   "execution_count": 65,
   "id": "d820e635",
   "metadata": {},
   "outputs": [],
   "source": [
    "sub.to_csv('Desktop\\sub3.csv',index=False)"
   ]
  },
  {
   "cell_type": "code",
   "execution_count": null,
   "id": "6a7526fe",
   "metadata": {},
   "outputs": [],
   "source": []
  }
 ],
 "metadata": {
  "kernelspec": {
   "display_name": "Python 3 (ipykernel)",
   "language": "python",
   "name": "python3"
  },
  "language_info": {
   "codemirror_mode": {
    "name": "ipython",
    "version": 3
   },
   "file_extension": ".py",
   "mimetype": "text/x-python",
   "name": "python",
   "nbconvert_exporter": "python",
   "pygments_lexer": "ipython3",
   "version": "3.9.7"
  }
 },
 "nbformat": 4,
 "nbformat_minor": 5
}
